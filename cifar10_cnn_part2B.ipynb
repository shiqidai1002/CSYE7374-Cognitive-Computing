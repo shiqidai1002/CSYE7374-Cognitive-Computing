{
  "nbformat": 4,
  "nbformat_minor": 0,
  "metadata": {
    "colab": {
      "name": "cifar10_cnn.ipynb",
      "version": "0.3.2",
      "provenance": [],
      "collapsed_sections": []
    },
    "kernelspec": {
      "name": "python3",
      "display_name": "Python 3"
    },
    "accelerator": "GPU"
  },
  "cells": [
    {
      "metadata": {
        "id": "HnH8VEoRP8Km",
        "colab_type": "code",
        "colab": {}
      },
      "cell_type": "code",
      "source": [
        "from __future__ import print_function\n",
        "import keras\n",
        "from keras.datasets import cifar10\n",
        "from keras.preprocessing.image import ImageDataGenerator\n",
        "from keras.models import Sequential\n",
        "from keras.layers import Dense, Dropout, Activation, Flatten, BatchNormalization\n",
        "from keras.layers import Conv2D, MaxPooling2D\n",
        "import os\n",
        "from configparser import ConfigParser"
      ],
      "execution_count": 0,
      "outputs": []
    },
    {
      "metadata": {
        "id": "jDidoO_p3cUQ",
        "colab_type": "code",
        "colab": {}
      },
      "cell_type": "code",
      "source": [
        "from configparser import ConfigParser\n",
        "cfg = ConfigParser()\n",
        "cfg.read('cifar10_config.txt')\n",
        "batch_size = cfg.getint('parameters','batch_size')\n",
        "epochs = cfg.getint('parameters','epochs')\n",
        "learning_rate = cfg.getfloat('parameters','learning_rate')\n",
        "dropout_rate = cfg.getfloat('parameters','dropout_rate')"
      ],
      "execution_count": 0,
      "outputs": []
    },
    {
      "metadata": {
        "id": "NtJtOOAzP_eK",
        "colab_type": "code",
        "colab": {}
      },
      "cell_type": "code",
      "source": [
        "\n",
        "num_classes = 10\n",
        "\n",
        "data_augmentation = True"
      ],
      "execution_count": 0,
      "outputs": []
    },
    {
      "metadata": {
        "id": "HCqdKUtvQCKI",
        "colab_type": "code",
        "colab": {
          "base_uri": "https://localhost:8080/",
          "height": 70
        },
        "outputId": "e29c37f0-8111-441c-8618-d32604c2a45a"
      },
      "cell_type": "code",
      "source": [
        "# The data, split between train and test sets:\n",
        "(x_train, y_train), (x_test, y_test) = cifar10.load_data()\n",
        "print('x_train shape:', x_train.shape)\n",
        "print(x_train.shape[0], 'train samples')\n",
        "print(x_test.shape[0], 'test samples')"
      ],
      "execution_count": 0,
      "outputs": [
        {
          "output_type": "stream",
          "text": [
            "x_train shape: (50000, 32, 32, 3)\n",
            "50000 train samples\n",
            "10000 test samples\n"
          ],
          "name": "stdout"
        }
      ]
    },
    {
      "metadata": {
        "id": "z7FBIuW8b2_M",
        "colab_type": "code",
        "colab": {
          "base_uri": "https://localhost:8080/",
          "height": 35
        },
        "outputId": "382fdd1d-acde-4eff-cf65-85bfc78e0358"
      },
      "cell_type": "code",
      "source": [
        "x_train.shape[1:]"
      ],
      "execution_count": 0,
      "outputs": [
        {
          "output_type": "execute_result",
          "data": {
            "text/plain": [
              "(32, 32, 3)"
            ]
          },
          "metadata": {
            "tags": []
          },
          "execution_count": 47
        }
      ]
    },
    {
      "metadata": {
        "id": "3q00sX0jQHJI",
        "colab_type": "code",
        "colab": {}
      },
      "cell_type": "code",
      "source": [
        "# Convert class vectors to binary class matrices.\n",
        "y_train = keras.utils.to_categorical(y_train, num_classes)\n",
        "y_test = keras.utils.to_categorical(y_test, num_classes)"
      ],
      "execution_count": 0,
      "outputs": []
    },
    {
      "metadata": {
        "id": "zj4Xq-qlQH01",
        "colab_type": "code",
        "colab": {
          "base_uri": "https://localhost:8080/",
          "height": 1208
        },
        "outputId": "3a67a890-87e4-445c-c311-eb56a26d6293"
      },
      "cell_type": "code",
      "source": [
        "model = Sequential()\n",
        "model.add(Conv2D(32, (3, 3), padding='same',\n",
        "                 input_shape=x_train.shape[1:]))\n",
        "model.add(Activation('relu'))\n",
        "model.add(BatchNormalization())\n",
        "model.add(Conv2D(32, (3, 3)))\n",
        "model.add(Activation('relu'))\n",
        "model.add(BatchNormalization())\n",
        "model.add(MaxPooling2D(pool_size=(2, 2)))\n",
        "model.add(Dropout(0.1))\n",
        " \n",
        "model.add(Conv2D(64, (3, 3), padding='same'))\n",
        "model.add(Activation('relu'))\n",
        "model.add(BatchNormalization())\n",
        "model.add(Conv2D(64, (3, 3)))\n",
        "model.add(Activation('relu'))\n",
        "model.add(BatchNormalization())\n",
        "model.add(MaxPooling2D(pool_size=(2, 2)))\n",
        "model.add(Dropout(0.1))\n",
        "\n",
        "model.add(Conv2D(128, (3, 3), padding='same'))\n",
        "model.add(Activation('relu'))\n",
        "model.add(BatchNormalization())\n",
        "model.add(Conv2D(128, (3, 3)))\n",
        "model.add(Activation('relu'))\n",
        "model.add(BatchNormalization())\n",
        "model.add(MaxPooling2D(pool_size=(2, 2)))\n",
        "model.add(Dropout(0.1))\n",
        " \n",
        "\n",
        "model.add(Flatten())\n",
        "model.add(Dense(512))\n",
        "model.add(Activation('relu'))\n",
        "model.add(Dropout(0.2))\n",
        "model.add(Dense(num_classes))\n",
        "model.add(Activation('softmax'))\n",
        " \n",
        "model.summary()\n"
      ],
      "execution_count": 0,
      "outputs": [
        {
          "output_type": "stream",
          "text": [
            "_________________________________________________________________\n",
            "Layer (type)                 Output Shape              Param #   \n",
            "=================================================================\n",
            "conv2d_61 (Conv2D)           (None, 32, 32, 32)        896       \n",
            "_________________________________________________________________\n",
            "activation_81 (Activation)   (None, 32, 32, 32)        0         \n",
            "_________________________________________________________________\n",
            "batch_normalization_61 (Batc (None, 32, 32, 32)        128       \n",
            "_________________________________________________________________\n",
            "conv2d_62 (Conv2D)           (None, 30, 30, 32)        9248      \n",
            "_________________________________________________________________\n",
            "activation_82 (Activation)   (None, 30, 30, 32)        0         \n",
            "_________________________________________________________________\n",
            "batch_normalization_62 (Batc (None, 30, 30, 32)        128       \n",
            "_________________________________________________________________\n",
            "max_pooling2d_31 (MaxPooling (None, 15, 15, 32)        0         \n",
            "_________________________________________________________________\n",
            "dropout_26 (Dropout)         (None, 15, 15, 32)        0         \n",
            "_________________________________________________________________\n",
            "conv2d_63 (Conv2D)           (None, 15, 15, 64)        18496     \n",
            "_________________________________________________________________\n",
            "activation_83 (Activation)   (None, 15, 15, 64)        0         \n",
            "_________________________________________________________________\n",
            "batch_normalization_63 (Batc (None, 15, 15, 64)        256       \n",
            "_________________________________________________________________\n",
            "conv2d_64 (Conv2D)           (None, 13, 13, 64)        36928     \n",
            "_________________________________________________________________\n",
            "activation_84 (Activation)   (None, 13, 13, 64)        0         \n",
            "_________________________________________________________________\n",
            "batch_normalization_64 (Batc (None, 13, 13, 64)        256       \n",
            "_________________________________________________________________\n",
            "max_pooling2d_32 (MaxPooling (None, 6, 6, 64)          0         \n",
            "_________________________________________________________________\n",
            "dropout_27 (Dropout)         (None, 6, 6, 64)          0         \n",
            "_________________________________________________________________\n",
            "conv2d_65 (Conv2D)           (None, 6, 6, 128)         73856     \n",
            "_________________________________________________________________\n",
            "activation_85 (Activation)   (None, 6, 6, 128)         0         \n",
            "_________________________________________________________________\n",
            "batch_normalization_65 (Batc (None, 6, 6, 128)         512       \n",
            "_________________________________________________________________\n",
            "conv2d_66 (Conv2D)           (None, 4, 4, 128)         147584    \n",
            "_________________________________________________________________\n",
            "activation_86 (Activation)   (None, 4, 4, 128)         0         \n",
            "_________________________________________________________________\n",
            "batch_normalization_66 (Batc (None, 4, 4, 128)         512       \n",
            "_________________________________________________________________\n",
            "max_pooling2d_33 (MaxPooling (None, 2, 2, 128)         0         \n",
            "_________________________________________________________________\n",
            "dropout_28 (Dropout)         (None, 2, 2, 128)         0         \n",
            "_________________________________________________________________\n",
            "flatten_11 (Flatten)         (None, 512)               0         \n",
            "_________________________________________________________________\n",
            "dense_21 (Dense)             (None, 512)               262656    \n",
            "_________________________________________________________________\n",
            "activation_87 (Activation)   (None, 512)               0         \n",
            "_________________________________________________________________\n",
            "dropout_29 (Dropout)         (None, 512)               0         \n",
            "_________________________________________________________________\n",
            "dense_22 (Dense)             (None, 10)                5130      \n",
            "_________________________________________________________________\n",
            "activation_88 (Activation)   (None, 10)                0         \n",
            "=================================================================\n",
            "Total params: 556,586\n",
            "Trainable params: 555,690\n",
            "Non-trainable params: 896\n",
            "_________________________________________________________________\n"
          ],
          "name": "stdout"
        }
      ]
    },
    {
      "metadata": {
        "id": "xZ59USJ_QKPu",
        "colab_type": "code",
        "colab": {}
      },
      "cell_type": "code",
      "source": [
        "# initiate RMSprop optimizer\n",
        "opt = keras.optimizers.rmsprop(lr=learning_rate, decay=1e-6)\n",
        "\n",
        "# Let's train the model using RMSprop\n",
        "model.compile(loss='categorical_crossentropy',\n",
        "              optimizer=opt,\n",
        "              metrics=['accuracy'])\n",
        "\n",
        "x_train = x_train.astype('float32')\n",
        "x_test = x_test.astype('float32')\n",
        "x_train /= 255\n",
        "x_test /= 255"
      ],
      "execution_count": 0,
      "outputs": []
    },
    {
      "metadata": {
        "id": "Usns265wQO7Y",
        "colab_type": "code",
        "colab": {
          "base_uri": "https://localhost:8080/",
          "height": 1155
        },
        "outputId": "04701062-f67a-4fdd-cd92-9139f2c0042f"
      },
      "cell_type": "code",
      "source": [
        "if not data_augmentation:\n",
        "    print('Not using data augmentation.')\n",
        "    model.fit(x_train, y_train,\n",
        "              batch_size=batch_size,\n",
        "              epochs=epochs,\n",
        "              validation_data=(x_test, y_test),\n",
        "              shuffle=True)\n",
        "else:\n",
        "    print('Using real-time data augmentation.')\n",
        "    # This will do preprocessing and realtime data augmentation:\n",
        "    datagen = ImageDataGenerator(\n",
        "        featurewise_center=False,  # set input mean to 0 over the dataset\n",
        "        samplewise_center=False,  # set each sample mean to 0\n",
        "        featurewise_std_normalization=False,  # divide inputs by std of the dataset\n",
        "        samplewise_std_normalization=False,  # divide each input by its std\n",
        "        zca_whitening=False,  # apply ZCA whitening\n",
        "        zca_epsilon=1e-06,  # epsilon for ZCA whitening\n",
        "        rotation_range=0,  # randomly rotate images in the range (degrees, 0 to 180)\n",
        "        # randomly shift images horizontally (fraction of total width)\n",
        "        width_shift_range=0.1,\n",
        "        # randomly shift images vertically (fraction of total height)\n",
        "        height_shift_range=0.1,\n",
        "        shear_range=0.,  # set range for random shear\n",
        "        zoom_range=0.,  # set range for random zoom\n",
        "        channel_shift_range=0.,  # set range for random channel shifts\n",
        "        # set mode for filling points outside the input boundaries\n",
        "        fill_mode='nearest',\n",
        "        cval=0.,  # value used for fill_mode = \"constant\"\n",
        "        horizontal_flip=True,  # randomly flip images\n",
        "        vertical_flip=False,  # randomly flip images\n",
        "        # set rescaling factor (applied before any other transformation)\n",
        "        rescale=None,\n",
        "        # set function that will be applied on each input\n",
        "        preprocessing_function=None,\n",
        "        # image data format, either \"channels_first\" or \"channels_last\"\n",
        "        data_format=None,\n",
        "        # fraction of images reserved for validation (strictly between 0 and 1)\n",
        "        validation_split=0.0)\n",
        "    # Compute quantities required for feature-wise normalization\n",
        "    # (std, mean, and principal components if ZCA whitening is applied).\n",
        "    datagen.fit(x_train)\n",
        "\n",
        "    # Fit the model on the batches generated by datagen.flow().\n",
        "    history = model.fit_generator(datagen.flow(x_train, y_train,\n",
        "                                     batch_size=batch_size),\n",
        "                        epochs=epochs,\n",
        "                        validation_data=(x_test, y_test),\n",
        "                        workers=4)\n",
        "\n",
        "# Score trained model.\n",
        "scores = model.evaluate(x_test, y_test, verbose=1)\n",
        "print('Test loss:', scores[0])\n",
        "print('Test accuracy:', scores[1])"
      ],
      "execution_count": 0,
      "outputs": [
        {
          "output_type": "stream",
          "text": [
            "Using real-time data augmentation.\n",
            "Epoch 1/30\n",
            "1563/1563 [==============================] - 62s 40ms/step - loss: 1.5649 - acc: 0.4421 - val_loss: 1.2340 - val_acc: 0.5671\n",
            "Epoch 2/30\n",
            "1563/1563 [==============================] - 58s 37ms/step - loss: 1.1453 - acc: 0.5946 - val_loss: 1.0748 - val_acc: 0.6266\n",
            "Epoch 3/30\n",
            "1563/1563 [==============================] - 58s 37ms/step - loss: 0.9806 - acc: 0.6577 - val_loss: 0.8915 - val_acc: 0.6932\n",
            "Epoch 4/30\n",
            "1563/1563 [==============================] - 58s 37ms/step - loss: 0.8785 - acc: 0.6946 - val_loss: 0.8492 - val_acc: 0.7093\n",
            "Epoch 5/30\n",
            "1563/1563 [==============================] - 58s 37ms/step - loss: 0.8150 - acc: 0.7162 - val_loss: 0.7605 - val_acc: 0.7480\n",
            "Epoch 6/30\n",
            "1563/1563 [==============================] - 58s 37ms/step - loss: 0.7740 - acc: 0.7329 - val_loss: 0.7981 - val_acc: 0.7317\n",
            "Epoch 7/30\n",
            "1563/1563 [==============================] - 58s 37ms/step - loss: 0.7444 - acc: 0.7478 - val_loss: 0.7439 - val_acc: 0.7566\n",
            "Epoch 8/30\n",
            "1563/1563 [==============================] - 57s 37ms/step - loss: 0.7182 - acc: 0.7574 - val_loss: 0.7874 - val_acc: 0.7540\n",
            "Epoch 9/30\n",
            "1563/1563 [==============================] - 60s 38ms/step - loss: 0.7018 - acc: 0.7615 - val_loss: 0.8130 - val_acc: 0.7416\n",
            "Epoch 10/30\n",
            "1563/1563 [==============================] - 59s 38ms/step - loss: 0.6753 - acc: 0.7720 - val_loss: 0.6432 - val_acc: 0.7921\n",
            "Epoch 11/30\n",
            "1563/1563 [==============================] - 59s 38ms/step - loss: 0.6558 - acc: 0.7787 - val_loss: 0.7087 - val_acc: 0.7828\n",
            "Epoch 12/30\n",
            "1563/1563 [==============================] - 60s 38ms/step - loss: 0.6467 - acc: 0.7818 - val_loss: 0.6456 - val_acc: 0.8043\n",
            "Epoch 13/30\n",
            "1563/1563 [==============================] - 59s 38ms/step - loss: 0.6330 - acc: 0.7885 - val_loss: 0.7529 - val_acc: 0.7810\n",
            "Epoch 14/30\n",
            "1563/1563 [==============================] - 59s 38ms/step - loss: 0.6198 - acc: 0.7919 - val_loss: 0.6237 - val_acc: 0.7995\n",
            "Epoch 15/30\n",
            "1563/1563 [==============================] - 59s 38ms/step - loss: 0.6154 - acc: 0.7959 - val_loss: 0.5923 - val_acc: 0.8106\n",
            "Epoch 16/30\n",
            "1563/1563 [==============================] - 59s 38ms/step - loss: 0.6038 - acc: 0.7996 - val_loss: 0.5909 - val_acc: 0.8108\n",
            "Epoch 17/30\n",
            "1563/1563 [==============================] - 59s 38ms/step - loss: 0.5893 - acc: 0.8041 - val_loss: 0.6112 - val_acc: 0.8089\n",
            "Epoch 18/30\n",
            "1563/1563 [==============================] - 59s 38ms/step - loss: 0.5841 - acc: 0.8055 - val_loss: 0.6016 - val_acc: 0.8132\n",
            "Epoch 19/30\n",
            "1563/1563 [==============================] - 59s 38ms/step - loss: 0.5758 - acc: 0.8100 - val_loss: 0.5788 - val_acc: 0.8219\n",
            "Epoch 20/30\n",
            "1563/1563 [==============================] - 58s 37ms/step - loss: 0.5647 - acc: 0.8130 - val_loss: 0.5923 - val_acc: 0.8100\n",
            "Epoch 21/30\n",
            "1563/1563 [==============================] - 58s 37ms/step - loss: 0.5543 - acc: 0.8159 - val_loss: 0.5328 - val_acc: 0.8305\n",
            "Epoch 22/30\n",
            "1563/1563 [==============================] - 58s 37ms/step - loss: 0.5544 - acc: 0.8179 - val_loss: 0.6232 - val_acc: 0.8074\n",
            "Epoch 23/30\n",
            "1563/1563 [==============================] - 59s 37ms/step - loss: 0.5448 - acc: 0.8192 - val_loss: 0.5510 - val_acc: 0.8264\n",
            "Epoch 24/30\n",
            "1563/1563 [==============================] - 58s 37ms/step - loss: 0.5405 - acc: 0.8214 - val_loss: 0.5377 - val_acc: 0.8300\n",
            "Epoch 25/30\n",
            "1563/1563 [==============================] - 59s 38ms/step - loss: 0.5343 - acc: 0.8233 - val_loss: 0.5028 - val_acc: 0.8392\n",
            "Epoch 26/30\n",
            "1563/1563 [==============================] - 58s 37ms/step - loss: 0.5234 - acc: 0.8260 - val_loss: 0.5112 - val_acc: 0.8397\n",
            "Epoch 27/30\n",
            "1563/1563 [==============================] - 59s 38ms/step - loss: 0.5233 - acc: 0.8259 - val_loss: 0.6078 - val_acc: 0.8141\n",
            "Epoch 28/30\n",
            "1563/1563 [==============================] - 58s 37ms/step - loss: 0.5206 - acc: 0.8290 - val_loss: 0.5830 - val_acc: 0.8278\n",
            "Epoch 29/30\n",
            "1563/1563 [==============================] - 59s 38ms/step - loss: 0.5054 - acc: 0.8317 - val_loss: 0.5649 - val_acc: 0.8241\n",
            "Epoch 30/30\n",
            "1563/1563 [==============================] - 59s 38ms/step - loss: 0.5092 - acc: 0.8311 - val_loss: 0.5535 - val_acc: 0.8323\n",
            "10000/10000 [==============================] - 3s 289us/step\n",
            "Test loss: 0.553475624370575\n",
            "Test accuracy: 0.8323\n"
          ],
          "name": "stdout"
        }
      ]
    },
    {
      "metadata": {
        "id": "4Ko1HDpVcrLf",
        "colab_type": "code",
        "colab": {
          "base_uri": "https://localhost:8080/",
          "height": 735
        },
        "outputId": "ec709c09-b276-4c28-e3f4-e781069b2602"
      },
      "cell_type": "code",
      "source": [
        "import matplotlib.pyplot as plt\n",
        "\n",
        "# Plot training & validation accuracy values\n",
        "plt.plot(history.history['acc'])\n",
        "plt.plot(history.history['val_acc'])\n",
        "plt.title('Model accuracy')\n",
        "plt.ylabel('Accuracy')\n",
        "plt.xlabel('Epoch')\n",
        "plt.legend(['Train', 'Test'], loc='upper left')\n",
        "plt.show()\n",
        "\n",
        "# Plot training & validation loss values\n",
        "plt.plot(history.history['loss'])\n",
        "plt.plot(history.history['val_loss'])\n",
        "plt.title('Model loss')\n",
        "plt.ylabel('Loss')\n",
        "plt.xlabel('Epoch')\n",
        "plt.legend(['Train', 'Test'], loc='upper left')\n",
        "plt.show()"
      ],
      "execution_count": 0,
      "outputs": [
        {
          "output_type": "display_data",
          "data": {
            "image/png": "[encoded data removed]",
            "text/plain": [
              "<matplotlib.figure.Figure at 0x7f7991104208>"
            ]
          },
          "metadata": {
            "tags": []
          }
        },
        {
          "output_type": "display_data",
          "data": {
            "image/png": "[encoded data removed]",
            "text/plain": [
              "<matplotlib.figure.Figure at 0x7f797e4085c0>"
            ]
          },
          "metadata": {
            "tags": []
          }
        }
      ]
    }
  ]
}